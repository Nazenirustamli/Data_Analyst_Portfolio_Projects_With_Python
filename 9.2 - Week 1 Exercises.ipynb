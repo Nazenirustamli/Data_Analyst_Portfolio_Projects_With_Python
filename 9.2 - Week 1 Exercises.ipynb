{
 "cells": [
  {
   "cell_type": "markdown",
   "metadata": {},
   "source": [
    "#### 1 - Create list which contain these 5 variables: 144,152.2,True,False,'Again', Then print types of these variables"
   ]
  },
  {
   "cell_type": "code",
   "execution_count": 1,
   "metadata": {},
   "outputs": [],
   "source": [
    "list_1= [144,152.2,True,False, 'Again']"
   ]
  },
  {
   "cell_type": "code",
   "execution_count": 6,
   "metadata": {},
   "outputs": [
    {
     "name": "stdout",
     "output_type": "stream",
     "text": [
      "144 ---> <class 'int'>\n",
      "152.2 ---> <class 'float'>\n",
      "True ---> <class 'bool'>\n",
      "False ---> <class 'bool'>\n",
      "Again ---> <class 'str'>\n"
     ]
    }
   ],
   "source": [
    "for i in list_1:\n",
    "    print (i, '--->', type(i))"
   ]
  },
  {
   "cell_type": "markdown",
   "metadata": {},
   "source": [
    "#### 2 - You have created list. Select only integer variable and multiply by 2"
   ]
  },
  {
   "cell_type": "code",
   "execution_count": 12,
   "metadata": {},
   "outputs": [
    {
     "name": "stdout",
     "output_type": "stream",
     "text": [
      "144\n"
     ]
    }
   ],
   "source": [
    "for i in list_1:\n",
    "    if type(i) == int:\n",
    "        print (i)\n",
    "\n",
    "        \n",
    "\n"
   ]
  },
  {
   "cell_type": "markdown",
   "metadata": {},
   "source": [
    "#### 3 - Select float type from created list and round it"
   ]
  },
  {
   "cell_type": "code",
   "execution_count": 17,
   "metadata": {},
   "outputs": [
    {
     "name": "stdout",
     "output_type": "stream",
     "text": [
      "152.2 ---> 152\n"
     ]
    }
   ],
   "source": [
    "for i in list_1:\n",
    "    if type(i)==float:\n",
    "        print(i,'--->', round(i))"
   ]
  },
  {
   "cell_type": "markdown",
   "metadata": {},
   "source": [
    "#### 4 - Select float and integer type from created list, then find their square root"
   ]
  },
  {
   "cell_type": "code",
   "execution_count": 20,
   "metadata": {},
   "outputs": [
    {
     "name": "stdout",
     "output_type": "stream",
     "text": [
      "144 ---> 12.0\n",
      "152.2 ---> 12.336936410632909\n"
     ]
    }
   ],
   "source": [
    "import math\n",
    "for i in list_1:\n",
    "    if type(i)==float or type(i)==int:\n",
    "        print(i,'--->', math.sqrt(i))"
   ]
  },
  {
   "cell_type": "markdown",
   "metadata": {},
   "source": [
    "#### 5 - You are given a created 2 new lists, find and print equal variables"
   ]
  },
  {
   "cell_type": "code",
   "execution_count": 21,
   "metadata": {},
   "outputs": [],
   "source": [
    "list_2 = [22,35,44,55,456,655,12.0]"
   ]
  },
  {
   "cell_type": "code",
   "execution_count": 30,
   "metadata": {},
   "outputs": [],
   "source": [
    "list_3 = [22,44,55,142,741,'Salam']"
   ]
  },
  {
   "cell_type": "code",
   "execution_count": 23,
   "metadata": {},
   "outputs": [
    {
     "name": "stdout",
     "output_type": "stream",
     "text": [
      "22\n",
      "44\n",
      "55\n"
     ]
    }
   ],
   "source": [
    "for i in list_2:\n",
    "    for k in list_3:\n",
    "        if i==k:\n",
    "            print(i)"
   ]
  },
  {
   "cell_type": "markdown",
   "metadata": {},
   "source": [
    "#### 6 - Select only integer variables from list_1, find if they have remainder from divison of 2"
   ]
  },
  {
   "cell_type": "code",
   "execution_count": 27,
   "metadata": {},
   "outputs": [
    {
     "name": "stdout",
     "output_type": "stream",
     "text": [
      "22\n",
      "44\n",
      "456\n"
     ]
    }
   ],
   "source": [
    "for i in list_2:\n",
    "    if type(i)==int and i%2==0:\n",
    "        print(i)\n",
    "    "
   ]
  },
  {
   "cell_type": "markdown",
   "metadata": {},
   "source": [
    "#### 7 - Sumup all numeric variables in list_2"
   ]
  },
  {
   "cell_type": "code",
   "execution_count": 31,
   "metadata": {},
   "outputs": [
    {
     "name": "stdout",
     "output_type": "stream",
     "text": [
      "22\n",
      "66\n",
      "121\n",
      "263\n",
      "1004\n",
      "1004\n"
     ]
    }
   ],
   "source": [
    "sumx=0\n",
    "for i in list_3:\n",
    "    if type(i)==int:\n",
    "        sumx+=i\n",
    "    print(sumx)\n",
    "        "
   ]
  },
  {
   "cell_type": "markdown",
   "metadata": {},
   "source": [
    "#### 8 - define counter 5, while counter reach to 20 make code stop, but in loop find squares of all variables"
   ]
  },
  {
   "cell_type": "code",
   "execution_count": 55,
   "metadata": {},
   "outputs": [
    {
     "name": "stdout",
     "output_type": "stream",
     "text": [
      "6 ---> 36\n",
      "7 ---> 49\n",
      "8 ---> 64\n",
      "9 ---> 81\n",
      "10 ---> 100\n",
      "11 ---> 121\n",
      "12 ---> 144\n",
      "13 ---> 169\n",
      "14 ---> 196\n",
      "15 ---> 225\n",
      "16 ---> 256\n",
      "17 ---> 289\n",
      "18 ---> 324\n",
      "19 ---> 361\n",
      "20 ---> 400\n"
     ]
    }
   ],
   "source": [
    "counter=5\n",
    "while counter<20:\n",
    "    counter+=1\n",
    "    print(counter,'--->',counter**2)\n",
    "    \n"
   ]
  },
  {
   "cell_type": "markdown",
   "metadata": {},
   "source": [
    "#### 9 - Print even numbers between 10 and 30 ( you have 3 way ( with loops), use all of them)"
   ]
  },
  {
   "cell_type": "code",
   "execution_count": 36,
   "metadata": {},
   "outputs": [
    {
     "name": "stdout",
     "output_type": "stream",
     "text": [
      "10\n",
      "12\n",
      "14\n",
      "16\n",
      "18\n",
      "20\n",
      "22\n",
      "24\n",
      "26\n",
      "28\n"
     ]
    }
   ],
   "source": [
    "for i in range(10,30):\n",
    "    if i % 2==0:\n",
    "        print(i)"
   ]
  },
  {
   "cell_type": "code",
   "execution_count": 37,
   "metadata": {},
   "outputs": [
    {
     "name": "stdout",
     "output_type": "stream",
     "text": [
      "10\n",
      "12\n",
      "14\n",
      "16\n",
      "18\n",
      "20\n",
      "22\n",
      "24\n",
      "26\n",
      "28\n"
     ]
    }
   ],
   "source": [
    "counter=10\n",
    "while counter <30:\n",
    "    print(counter)\n",
    "    counter+=2"
   ]
  },
  {
   "cell_type": "markdown",
   "metadata": {},
   "source": [
    "#### 10 - create 15 random variables between 10 and 30.  if numbers are lower than and equal to 18, print \"info\" in front of them"
   ]
  },
  {
   "cell_type": "code",
   "execution_count": 40,
   "metadata": {},
   "outputs": [
    {
     "name": "stdout",
     "output_type": "stream",
     "text": [
      "16 ---> info\n",
      "19\n",
      "15 ---> info\n",
      "19\n",
      "28\n",
      "16 ---> info\n",
      "13 ---> info\n",
      "16 ---> info\n",
      "16 ---> info\n",
      "11 ---> info\n",
      "23\n",
      "25\n",
      "22\n",
      "27\n",
      "22\n"
     ]
    }
   ],
   "source": [
    "for i in np.random.randint(10,30,15):\n",
    "    if i <=18:\n",
    "        print(i,'---> info')\n",
    "    else:\n",
    "        print(i)"
   ]
  },
  {
   "cell_type": "markdown",
   "metadata": {},
   "source": [
    "#### 11 - Find out percentage of number lower than 18 from example 10 but size of variables should be 50"
   ]
  },
  {
   "cell_type": "code",
   "execution_count": 47,
   "metadata": {},
   "outputs": [
    {
     "data": {
      "text/plain": [
       "0.2"
      ]
     },
     "execution_count": 47,
     "metadata": {},
     "output_type": "execute_result"
    }
   ],
   "source": [
    "counter=10\n",
    "for i in np.random.randint(10,30,50):\n",
    "    if 10>i>18:\n",
    "        counter+=i\n",
    "counter/50"
   ]
  },
  {
   "cell_type": "markdown",
   "metadata": {},
   "source": [
    "#### 12 - show cumulative sum of list1"
   ]
  },
  {
   "cell_type": "code",
   "execution_count": 49,
   "metadata": {},
   "outputs": [
    {
     "name": "stdout",
     "output_type": "stream",
     "text": [
      "22\n",
      "57\n",
      "101\n",
      "156\n",
      "612\n",
      "1267\n",
      "1279.0\n"
     ]
    }
   ],
   "source": [
    "sumx=0\n",
    "for i in list_2:\n",
    "    sumx += i\n",
    "    print(sumx)"
   ]
  }
 ],
 "metadata": {
  "kernelspec": {
   "display_name": "Python 3 (ipykernel)",
   "language": "python",
   "name": "python3"
  },
  "language_info": {
   "codemirror_mode": {
    "name": "ipython",
    "version": 3
   },
   "file_extension": ".py",
   "mimetype": "text/x-python",
   "name": "python",
   "nbconvert_exporter": "python",
   "pygments_lexer": "ipython3",
   "version": "3.9.13"
  }
 },
 "nbformat": 4,
 "nbformat_minor": 2
}
